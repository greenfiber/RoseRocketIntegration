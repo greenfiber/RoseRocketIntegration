{
 "cells": [
  {
   "cell_type": "code",
   "execution_count": 8,
   "metadata": {},
   "outputs": [],
   "source": [
    "import requests\n"
   ]
  },
  {
   "cell_type": "code",
   "execution_count": 9,
   "metadata": {},
   "outputs": [],
   "source": [
    "    wbclientid='0000b496-bf05-4360-93dd-a6ce1951bd57'\n",
    "    wbsecret='Q0YpNLOW2IQOYQNB0y6UO0keRME6UPHQ2KEWAVKXwmyQU39ciNoWAPBECuCKztPN3TBqeEMJDXck8TonMO08cvIcR8EQ6p1F2xcRrezt3S16Oariv5KRcltV99g9jIj7'\n",
    "    rruser='david.fries@greenfiber.com'\n",
    "    rrpw='Linuxisawesome!'\n",
    "    \n",
    "    orgs={\n",
    "        '130':{'orgname':'GFNorfolk',\n",
    "        'clientid':'',\n",
    "        'secretid':'', 'accesstoken':''},\n",
    "        '161':'GFWaco',\n",
    "        '310':'GFTampa',\n",
    "        '336':'GFDelphos',\n",
    "        '810':'GFChandler',\n",
    "        '841':'GFSLC',\n",
    "        '842':'GFSLC',\n",
    "        '845': 'GFSLC',\n",
    "        '906': {'orgname':\"GFWilkes-Barre\",\n",
    "        'clientid':'','secretid':'','accesstoken':''},\n",
    "        '920': 'GFVars',\n",
    "        '921': 'GFDebert'\n",
    "    \n",
    "        }"
   ]
  },
  {
   "cell_type": "code",
   "execution_count": 11,
   "metadata": {},
   "outputs": [],
   "source": [
    "orgs['906']['accesstoken']='testaccesstoken'"
   ]
  },
  {
   "cell_type": "code",
   "execution_count": 12,
   "metadata": {},
   "outputs": [
    {
     "name": "stdout",
     "output_type": "stream",
     "text": [
      "testaccesstoken\n"
     ]
    }
   ],
   "source": [
    "print(orgs['906']['accesstoken'])"
   ]
  },
  {
   "cell_type": "code",
   "execution_count": null,
   "metadata": {},
   "outputs": [],
   "source": []
  }
 ],
 "metadata": {
  "kernelspec": {
   "display_name": "Python 3",
   "language": "python",
   "name": "python3"
  },
  "language_info": {
   "codemirror_mode": {
    "name": "ipython",
    "version": 3
   },
   "file_extension": ".py",
   "mimetype": "text/x-python",
   "name": "python",
   "nbconvert_exporter": "python",
   "pygments_lexer": "ipython3",
   "version": "3.7.3"
  }
 },
 "nbformat": 4,
 "nbformat_minor": 2
}
