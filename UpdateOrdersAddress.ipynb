{
 "cells": [
  {
   "cell_type": "code",
   "execution_count": 1,
   "metadata": {},
   "outputs": [],
   "source": [
    "from integration import RoseRocketIntegration  \n",
    "from backend import RoseRocketIntegrationBackend\n",
    "from secret import secrets as pw\n",
    "import requests\n",
    "import pprint\n",
    "orgs = pw.orgs.keys()\n",
    "db=RoseRocketIntegrationBackend()"
   ]
  },
  {
   "cell_type": "code",
   "execution_count": 12,
   "metadata": {},
   "outputs": [
    {
     "name": "stdout",
     "output_type": "stream",
     "text": [
      "\n",
      "''\n",
      "\n",
      "''\n",
      "\n",
      "''\n",
      "\n",
      "''\n",
      "\n",
      "''\n",
      "\n",
      "''\n",
      "\n",
      "''\n",
      "\n",
      "''\n",
      "\n",
      "''\n",
      "\n",
      "''\n",
      "\n",
      "''\n",
      "\n",
      "''\n",
      "\n",
      "''\n",
      "\n",
      "''\n",
      "\n",
      "''\n",
      "\n",
      "''\n",
      "\n",
      "''\n",
      "\n",
      "''\n",
      "\n",
      "''\n",
      "\n",
      "''\n"
     ]
    }
   ],
   "source": [
    "for org in orgs:\n",
    "    auth = RoseRocketIntegration(org).authorg(org)\n",
    "    headers = {\n",
    "                'Content-Type': 'application/json',\n",
    "                \n",
    "                'Authorization': 'Bearer {}'.format(auth)\n",
    "\n",
    "\n",
    "            }\n",
    "    apiurl=\"https://platform.sandbox01.roserocket.com/api/v1/orders/\"\n",
    "    orders = requests.get(apiurl,headers=headers).json()\n",
    "    plantInfo = db.getPlantInfo(org)[0]\n",
    "    params={\"org_name\": plantInfo[\"plantName\"],\n",
    "                           \"address_1\": plantInfo[\"Address1\"],\n",
    "                           \"address_2\": plantInfo[\"Address2\"],\n",
    "                           \"city\": plantInfo[\"City\"],\n",
    "                           \"state\": plantInfo[\"State\"],\n",
    "                           \"postal\": plantInfo[\"PostalCode\"],\n",
    "                           \"country\": plantInfo[\"CountryCode\"],\n",
    "                           \"phone\": plantInfo[\"plantPhoneNumber\"],\n",
    "                           \"latitude\": float(plantInfo[\"LAT\"]),\n",
    "                           \"longitude\": float(plantInfo[\"LONG\"])\n",
    "\n",
    "                           }\n",
    "    for order in orders['orders']:\n",
    "        print()\n",
    "#         pprint.pprint(order['customer']['external_id'])\n",
    "        customer=order['customer']['external_id']\n",
    "        if(customer):\n",
    "            updateurl=\"https://platform.sandbox01.roserocket.com/api/v1/customers/ext:{}/orders/{}/revise_origin\".format(customer,order['id'])\n",
    "            resp=requests.put(updateurl,params,headers=headers).json()\n",
    "            pprint.pprint(resp)"
   ]
  },
  {
   "cell_type": "code",
   "execution_count": null,
   "metadata": {},
   "outputs": [],
   "source": []
  }
 ],
 "metadata": {
  "kernelspec": {
   "display_name": "Python 3",
   "language": "python",
   "name": "python3"
  },
  "language_info": {
   "codemirror_mode": {
    "name": "ipython",
    "version": 3
   },
   "file_extension": ".py",
   "mimetype": "text/x-python",
   "name": "python",
   "nbconvert_exporter": "python",
   "pygments_lexer": "ipython3",
   "version": "3.8.4"
  }
 },
 "nbformat": 4,
 "nbformat_minor": 4
}
