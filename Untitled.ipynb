{
 "cells": [
  {
   "cell_type": "code",
   "execution_count": 16,
   "metadata": {},
   "outputs": [],
   "source": [
    "import pytz, datetime\n",
    "from datetime import timedelta"
   ]
  },
  {
   "cell_type": "code",
   "execution_count": 10,
   "metadata": {},
   "outputs": [],
   "source": [
    "fd = datetime.datetime.strptime('20190909', '%Y%m%d')\n",
    "local=pytz.timezone(\"America/New_York\")"
   ]
  },
  {
   "cell_type": "code",
   "execution_count": 11,
   "metadata": {},
   "outputs": [],
   "source": [
    "localized=local.localize(fd, is_dst=None)"
   ]
  },
  {
   "cell_type": "code",
   "execution_count": 18,
   "metadata": {},
   "outputs": [],
   "source": [
    "utc=localized.astimezone(pytz.utc)+timedelta(hours=6)"
   ]
  },
  {
   "cell_type": "code",
   "execution_count": 19,
   "metadata": {},
   "outputs": [
    {
     "name": "stdout",
     "output_type": "stream",
     "text": [
      "2019-09-09 10:00:00+00:00\n"
     ]
    }
   ],
   "source": [
    "auth=rr.authorg('130')"
   ]
  },
  {
   "cell_type": "code",
   "execution_count": 20,
   "metadata": {},
   "outputs": [
    {
     "data": {
      "text/plain": [
       "'2019-09-09T10:00:00+00:00'"
      ]
     },
     "execution_count": 20,
     "metadata": {},
     "output_type": "execute_result"
    }
   ],
   "source": [
    "utc.isoformat()"
   ]
  },
  {
   "cell_type": "code",
   "execution_count": 1,
   "metadata": {},
   "outputs": [],
   "source": [
    "import pandas as pd"
   ]
  },
  {
   "cell_type": "code",
   "execution_count": 2,
   "metadata": {},
   "outputs": [],
   "source": [
    "apurl ='https://platform.sandbox01.roserocket.com/api/v1/orders/143df72d-3c0d-42a5-b508-38e80d900dd9'\n",
    "headers = {\n",
    "                'Content-Type': 'application/json',\n",
    "                'Accept': 'application/json',\n",
    "                'Authorization': 'Bearer {}'.format(auth)\n",
    "\n",
    "\n",
    "            }"
   ]
  },
  {
   "cell_type": "code",
   "execution_count": 31,
   "metadata": {},
   "outputs": [],
   "source": [
    "resp = requests.get(apurl,headers=headers)\n"
   ]
  },
  {
   "cell_type": "code",
   "execution_count": 33,
   "metadata": {},
   "outputs": [
    {
     "name": "stdout",
     "output_type": "stream",
     "text": [
      "{'order': {'accessorials': [],\n",
      "           'billing': {'address_1': 'ATTN: FREIGHT PAYABLES',\n",
      "                       'address_2': '2455 PACES FERRY ROAD',\n",
      "                       'address_book_external_id': None,\n",
      "                       'address_book_id': None,\n",
      "                       'bus_hours_end_at': None,\n",
      "                       'bus_hours_start_at': None,\n",
      "                       'city': 'ATLANTA',\n",
      "                       'contact_name': '',\n",
      "                       'country': 'US',\n",
      "                       'email': '',\n",
      "                       'fax': '',\n",
      "                       'latitude': None,\n",
      "                       'longitude': None,\n",
      "                       'org_name': 'HOMEDEPOT.COM',\n",
      "                       'phone': '',\n",
      "                       'phone_ext': '',\n",
      "                       'postal': '30339',\n",
      "                       'state': 'GA',\n",
      "                       'suite': ''},\n",
      "           'billing_option': 'thirdparty',\n",
      "           'commodities': [{'commodity_type': 'package',\n",
      "                            'commodity_type_other': '',\n",
      "                            'description': 'TAP LOOSE FILL ALL BORATE',\n",
      "                            'feet': 0,\n",
      "                            'freight_class': '100',\n",
      "                            'height': 0,\n",
      "                            'id': '503da9aa-b41d-4e45-b036-c59c3171ae02',\n",
      "                            'is_stackable': False,\n",
      "                            'length': 0,\n",
      "                            'measurement_unit': 'inch',\n",
      "                            'nmfc': '10330',\n",
      "                            'pieces': 1,\n",
      "                            'quantity': 72,\n",
      "                            'sku': 'INSTAPLD',\n",
      "                            'volume': 0,\n",
      "                            'weight': 30,\n",
      "                            'weight_unit': 'lb',\n",
      "                            'width': 0}],\n",
      "           'custom_broker': '',\n",
      "           'customer': {'external_id': '00HOMEDCO',\n",
      "                        'id': 'b874c330-335a-45fe-81de-6bd86d473ff5',\n",
      "                        'short_code': 'HOMEDC'},\n",
      "           'declared_value': 0,\n",
      "           'declared_value_currency': 'usd',\n",
      "           'default_measurement_unit_id': 'inch',\n",
      "           'default_weight_unit_id': 'lb',\n",
      "           'delivery_appt_end_at': None,\n",
      "           'delivery_appt_start_at': None,\n",
      "           'delivery_end_at': None,\n",
      "           'delivery_start_at': '2019-08-28T04:00:00Z',\n",
      "           'destination': {'address_1': '6612 CHACELLOR DR. 300',\n",
      "                           'address_2': '',\n",
      "                           'address_book_external_id': None,\n",
      "                           'address_book_id': None,\n",
      "                           'bus_hours_end_at': None,\n",
      "                           'bus_hours_start_at': None,\n",
      "                           'city': 'CEDAR FALLS',\n",
      "                           'contact_name': '',\n",
      "                           'country': 'US',\n",
      "                           'email': '',\n",
      "                           'fax': '',\n",
      "                           'latitude': None,\n",
      "                           'longitude': None,\n",
      "                           'org_name': 'ORKIN #538',\n",
      "                           'phone': '(319) 269-3808',\n",
      "                           'phone_ext': '',\n",
      "                           'postal': '50613',\n",
      "                           'state': 'IA',\n",
      "                           'suite': ''},\n",
      "           'dim_type': 'ltl',\n",
      "           'external_id': '1835347',\n",
      "           'id': '143df72d-3c0d-42a5-b508-38e80d900dd9',\n",
      "           'is_multistop_order': False,\n",
      "           'multistop_order_full_id': None,\n",
      "           'multistop_order_id': None,\n",
      "           'multistop_order_sequence_id': 0,\n",
      "           'notes': \"OriginInstructions: [' MUST SHIP BY 08/28/19 TO BE \"\n",
      "                    \"COMPLIANT&#x0D;\\\\n', 'VENDOR #: 6004826', 'HOMEDEPOT.COM \"\n",
      "                    \"36 BAGS PER PALLET REQUIRED&#x0D;\\\\n', '  HD PACKING SLIP \"\n",
      "                    \"MUST ACCOMPANY ORDER&#x0D;\\\\n', '  SHIP PER HD ROUTING / \"\n",
      "                    \"BILL GUIDELINE', ' RESIDENTIAL &amp;  LIFT GATE CHARGES \"\n",
      "                    \"PRE-APPROVED&#x0D;\\\\n', ' Delivery Appointment REQUIRED - \"\n",
      "                    \"BRUCE #319-269-3808', 'Liftgate &amp; Pallet Jack \"\n",
      "                    \"REQUIRED on Delivery', 'Inside Delivery REQUIRED', ') \"\n",
      "                    'Deliver to Rear of Bldg &amp; Ring '\n",
      "                    \"Doorbell&#x0D;\\\\n*Business Hours 8am-4:30pm &#x0D;\\\\n', \"\n",
      "                    \"'', '', '']\",\n",
      "           'origin': {'address_1': '3421 Old Hwy 8\\r',\n",
      "                      'address_2': '',\n",
      "                      'address_book_external_id': None,\n",
      "                      'address_book_id': None,\n",
      "                      'bus_hours_end_at': None,\n",
      "                      'bus_hours_start_at': None,\n",
      "                      'city': 'Norfolk',\n",
      "                      'contact_name': '',\n",
      "                      'country': 'US',\n",
      "                      'email': '',\n",
      "                      'fax': '',\n",
      "                      'latitude': 41.997437,\n",
      "                      'longitude': -97.350813,\n",
      "                      'org_name': 'GreenFiber – Norfolk ',\n",
      "                      'phone': '402-379-2045',\n",
      "                      'phone_ext': '',\n",
      "                      'postal': '68701',\n",
      "                      'state': 'NE',\n",
      "                      'suite': ''},\n",
      "           'pickup_appt_end_at': None,\n",
      "           'pickup_appt_start_at': None,\n",
      "           'pickup_end_at': None,\n",
      "           'pickup_start_at': '2019-08-27T04:00:00Z',\n",
      "           'po_num': '51673216',\n",
      "           'public_id': '130-HOMEDC-88',\n",
      "           'ref_num': '1835347',\n",
      "           'sequence_id': 88,\n",
      "           'status': 'dispatched',\n",
      "           'tender_id': None,\n",
      "           'tender_num': '9538'}}\n"
     ]
    }
   ],
   "source": [
    "import pprint\n",
    "pp = pprint.PrettyPrinter()\n",
    "pp.pprint(resp.json())"
   ]
  },
  {
   "cell_type": "code",
   "execution_count": null,
   "metadata": {},
   "outputs": [],
   "source": []
  }
 ],
 "metadata": {
  "kernelspec": {
   "display_name": "Python 3",
   "language": "python",
   "name": "python3"
  },
  "language_info": {
   "codemirror_mode": {
    "name": "ipython",
    "version": 3
   },
   "file_extension": ".py",
   "mimetype": "text/x-python",
   "name": "python",
   "nbconvert_exporter": "python",
   "pygments_lexer": "ipython3",
   "version": "3.7.3"
  }
 },
 "nbformat": 4,
 "nbformat_minor": 4
}
