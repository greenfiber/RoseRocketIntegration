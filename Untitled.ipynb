{
 "cells": [
  {
   "cell_type": "code",
   "execution_count": 1,
   "metadata": {},
   "outputs": [],
   "source": [
    " skuinfo={\n",
    "                \"INS541LD\":{\"THDSKU\":\"211904\",\"UPC\":\"716891001087\"},\n",
    "                \"INS765LD/E\":{'THDSKU':\"1002476568\",\"UPC\":\"729477076546\"}\n",
    "\n",
    "\n",
    "            }"
   ]
  },
  {
   "cell_type": "code",
   "execution_count": 5,
   "metadata": {},
   "outputs": [],
   "source": [
    "params={\n",
    "    \"notes\":\"\"\"\n",
    "    OriginInstructions: {}\n",
    "                    UPC: {}\n",
    "                    VP#: {}\n",
    "                    THD#: {}\n",
    "    \n",
    "    \n",
    "    \n",
    "    \"\"\".format('test inst',skuinfo['INS541LD']['UPC'],'INS541LD',skuinfo['INS541LD']['THDSKU']),\n",
    "    \"somthing\":\"else\"\n",
    "    \n",
    "    \n",
    "    \n",
    "}"
   ]
  },
  {
   "cell_type": "code",
   "execution_count": 6,
   "metadata": {},
   "outputs": [
    {
     "data": {
      "text/plain": [
       "{'notes': '\\n    OriginInstructions: test inst\\n                    UPC: 716891001087\\n                    VP#: INS541LD\\n                    THD#: 211904\\n    \\n    \\n    \\n    ',\n",
       " 'somthing': 'else'}"
      ]
     },
     "execution_count": 6,
     "metadata": {},
     "output_type": "execute_result"
    }
   ],
   "source": [
    "params"
   ]
  },
  {
   "cell_type": "code",
   "execution_count": 7,
   "metadata": {},
   "outputs": [],
   "source": [
    "orgs = {\n",
    "        # '130': {'orgname': 'GFNorfolk',\n",
    "        #         'clientid': '',\n",
    "        #         'secretid': '', 'accesstoken': ''},\n",
    "        # '161': 'GFWaco',\n",
    "        # '310': 'GFTampa',\n",
    "        # '336': 'GFDelphos',\n",
    "        # '810': 'GFChandler',\n",
    "        # '841': 'GFSLC',\n",
    "        '842': {'orgname':'GFSLC',\n",
    "                'clientid':'53ae1953-7998-4367-b98d-5949a1936e53',\n",
    "                'secretid':'8KpNbOhp8HBxSFJ9EATYGkKqvWQhjbi9Twcut5CogGtEQnT13WdOGMAWPUvHSxk57cWvTBtzAnA9VvMOhWv7upetxVlo6tII0VEuXxps7noURBsqiqRQLcWz53uvZKZ5','accesstoken':''},\n",
    "        # '845': 'GFSLC',\n",
    "        '906': {'orgname': \"GFWilkes-Barre\",\n",
    "                'clientid': '0000b496-bf05-4360-93dd-a6ce1951bd57', 'secretid': 'Q0YpNLOW2IQOYQNB0y6UO0keRME6UPHQ2KEWAVKXwmyQU39ciNoWAPBECuCKztPN3TBqeEMJDXck8TonMO08cvIcR8EQ6p1F2xcRrezt3S16Oariv5KRcltV99g9jIj7', 'accesstoken': ''},\n",
    "        # '920': 'GFVars',\n",
    "        # '921': 'GFDebert'\n",
    "    }\n"
   ]
  },
  {
   "cell_type": "code",
   "execution_count": 9,
   "metadata": {},
   "outputs": [],
   "source": [
    "orgs2 = orgs.keys()"
   ]
  },
  {
   "cell_type": "code",
   "execution_count": 10,
   "metadata": {},
   "outputs": [
    {
     "name": "stdout",
     "output_type": "stream",
     "text": [
      "842\n",
      "906\n"
     ]
    }
   ],
   "source": [
    "for org in orgs2:\n",
    "    print(org)"
   ]
  },
  {
   "cell_type": "code",
   "execution_count": null,
   "metadata": {},
   "outputs": [],
   "source": []
  }
 ],
 "metadata": {
  "kernelspec": {
   "display_name": "Python 3",
   "language": "python",
   "name": "python3"
  },
  "language_info": {
   "codemirror_mode": {
    "name": "ipython",
    "version": 3
   },
   "file_extension": ".py",
   "mimetype": "text/x-python",
   "name": "python",
   "nbconvert_exporter": "python",
   "pygments_lexer": "ipython3",
   "version": "3.7.3"
  }
 },
 "nbformat": 4,
 "nbformat_minor": 2
}
