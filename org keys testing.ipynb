{
 "cells": [
  {
   "cell_type": "code",
   "execution_count": 1,
   "metadata": {},
   "outputs": [],
   "source": [
    "orgs = {\n",
    "        '130': {'orgname': 'GFNorfolk',\n",
    "                'clientid': '',\n",
    "                'secretid': '', 'accesstoken': ''},\n",
    "        '161': 'GFWaco',\n",
    "        '310': 'GFTampa',\n",
    "        '336': 'GFDelphos',\n",
    "        '810': 'GFChandler',\n",
    "        '841': 'GFSLC',\n",
    "        '842': {'orgname':'GFSLC',\n",
    "                'clientid':'53ae1953-7998-4367-b98d-5949a1936e53',\n",
    "                'secretid':'8KpNbOhp8HBxSFJ9EATYGkKqvWQhjbi9Twcut5CogGtEQnT13WdOGMAWPUvHSxk57cWvTBtzAnA9VvMOhWv7upetxVlo6tII0VEuXxps7noURBsqiqRQLcWz53uvZKZ5','accesstoken':''},\n",
    "        '845': 'GFSLC',\n",
    "        '906': {'orgname': \"GFWilkes-Barre\",\n",
    "                'clientid': '0000b496-bf05-4360-93dd-a6ce1951bd57', 'secretid': 'Q0YpNLOW2IQOYQNB0y6UO0keRME6UPHQ2KEWAVKXwmyQU39ciNoWAPBECuCKztPN3TBqeEMJDXck8TonMO08cvIcR8EQ6p1F2xcRrezt3S16Oariv5KRcltV99g9jIj7', 'accesstoken': ''},\n",
    "        '920': 'GFVars',\n",
    "        '921': 'GFDebert'\n",
    "    }"
   ]
  },
  {
   "cell_type": "code",
   "execution_count": 2,
   "metadata": {},
   "outputs": [],
   "source": [
    "d = orgs.keys()"
   ]
  },
  {
   "cell_type": "code",
   "execution_count": 3,
   "metadata": {},
   "outputs": [
    {
     "name": "stdout",
     "output_type": "stream",
     "text": [
      "dict_keys(['130', '161', '310', '336', '810', '841', '842', '845', '906', '920', '921'])\n"
     ]
    }
   ],
   "source": [
    "print(d)"
   ]
  },
  {
   "cell_type": "code",
   "execution_count": 5,
   "metadata": {},
   "outputs": [
    {
     "name": "stdout",
     "output_type": "stream",
     "text": [
      "130\n",
      "161\n",
      "310\n",
      "336\n",
      "810\n",
      "841\n",
      "842\n",
      "845\n",
      "906\n",
      "920\n",
      "921\n"
     ]
    }
   ],
   "source": [
    "for key in d:\n",
    "    print(key)"
   ]
  },
  {
   "cell_type": "code",
   "execution_count": null,
   "metadata": {},
   "outputs": [],
   "source": []
  }
 ],
 "metadata": {
  "kernelspec": {
   "display_name": "Python 3",
   "language": "python",
   "name": "python3"
  },
  "language_info": {
   "codemirror_mode": {
    "name": "ipython",
    "version": 3
   },
   "file_extension": ".py",
   "mimetype": "text/x-python",
   "name": "python",
   "nbconvert_exporter": "python",
   "pygments_lexer": "ipython3",
   "version": "3.7.3"
  }
 },
 "nbformat": 4,
 "nbformat_minor": 2
}
